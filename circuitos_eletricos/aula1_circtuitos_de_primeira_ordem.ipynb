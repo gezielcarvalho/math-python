{
 "cells": [
  {
   "cell_type": "markdown",
   "metadata": {},
   "source": [
    "$$\n",
    "\\begin{align}\n",
    "\\text{Função degrau unitário u(t)}\\\\\n",
    "u(t) = \\begin{cases}\n",
    "0&\\text{t < 0}\\\\\n",
    "1&\\text{t > 0}\\\\\n",
    "\\end{cases}\n",
    "\\end{align}\n",
    "$$"
   ]
  },
  {
   "cell_type": "code",
   "execution_count": null,
   "metadata": {},
   "outputs": [],
   "source": [
    "import matplotlib.pyplot as plt "
   ]
  },
  {
   "cell_type": "code",
   "execution_count": 36,
   "metadata": {},
   "outputs": [],
   "source": [
    "def degrau_unitario(t):\n",
    "    if t < 0:\n",
    "        return 0\n",
    "    elif t > 0:\n",
    "        return 1"
   ]
  },
  {
   "cell_type": "code",
   "execution_count": 59,
   "metadata": {},
   "outputs": [
    {
     "data": {
      "image/png": "[encoded data removed]",
      "text/plain": [
       "<Figure size 432x288 with 1 Axes>"
      ]
     },
     "metadata": {
      "needs_background": "light"
     },
     "output_type": "display_data"
    }
   ],
   "source": [
    "t = list(range(-5,6))\n",
    "u_t = list(map(degrau_unitario,x))\n",
    "\n",
    "plt.plot(t, u_t, linewidth = 3, marker='o',  markersize=10) \n",
    "plt.xlabel('t') \n",
    "plt.ylabel('u(t)') \n",
    "plt.title('Função degrau unitário') \n",
    "  \n",
    "# function to show the plot \n",
    "plt.show() "
   ]
  },
  {
   "cell_type": "markdown",
   "metadata": {},
   "source": [
    "$$\n",
    "\\begin{align}\n",
    "\\text{Função degrau unitário deslocado}\\\\\n",
    "u(t -t_0) = \\begin{cases}\n",
    "0&t < t_0\\\\\n",
    "1&t > t_0\\\\\n",
    "\\end{cases}\n",
    "\\end{align}\n",
    "$$\n",
    "\n",
    "$$\n",
    "\\begin{align}\n",
    "u(t +t_0) = \\begin{cases}\n",
    "0&t < -t_0\\\\\n",
    "1&t > -t_0\\\\\n",
    "\\end{cases}\n",
    "\\end{align}\n",
    "$$"
   ]
  },
  {
   "cell_type": "code",
   "execution_count": 37,
   "metadata": {},
   "outputs": [],
   "source": [
    "def degrau_unitario_deslocado_positivo(t,t0):\n",
    "    if t0 > 0:\n",
    "        if t < t0:\n",
    "            return 0\n",
    "        elif t > t0:\n",
    "            return 1    "
   ]
  },
  {
   "cell_type": "code",
   "execution_count": 38,
   "metadata": {},
   "outputs": [],
   "source": [
    "def degrau_unitario_deslocado_negativo(t,t0):\n",
    "    if t0 < 0:\n",
    "        if t < t0:\n",
    "            return 0\n",
    "        elif t > t0:\n",
    "            return 1 "
   ]
  },
  {
   "cell_type": "code",
   "execution_count": 61,
   "metadata": {},
   "outputs": [
    {
     "data": {
      "image/png": "[encoded data removed]",
      "text/plain": [
       "<Figure size 432x288 with 1 Axes>"
      ]
     },
     "metadata": {
      "needs_background": "light"
     },
     "output_type": "display_data"
    }
   ],
   "source": [
    "t = list(range(-5,6))\n",
    "t0 = [1]*len(t)\n",
    "u_t= list(map(degrau_unitario_deslocado_positivo,t,t0))\n",
    "\n",
    "plt.plot(t, u_t, linewidth = 3, marker='o',  markersize=10) \n",
    "plt.xlabel('t') \n",
    "plt.ylabel('u(t)') \n",
    "plt.title('Função degrau unitário deslocado') \n",
    "  \n",
    "# function to show the plot \n",
    "plt.show() "
   ]
  },
  {
   "cell_type": "code",
   "execution_count": 62,
   "metadata": {},
   "outputs": [
    {
     "data": {
      "image/png": "[encoded data removed]",
      "text/plain": [
       "<Figure size 432x288 with 1 Axes>"
      ]
     },
     "metadata": {
      "needs_background": "light"
     },
     "output_type": "display_data"
    }
   ],
   "source": [
    "t = list(range(-5,6))\n",
    "t0 = [-1]*len(t)\n",
    "u_t= list(map(degrau_unitario_deslocado_negativo,t,t0))\n",
    "\n",
    "plt.plot(t, u_t, linewidth = 3, marker='o',  markersize=10) \n",
    "plt.xlabel('t') \n",
    "plt.ylabel('u(t)') \n",
    "plt.title('Função degrau unitário deslocado') \n",
    "  \n",
    "# function to show the plot \n",
    "plt.show() "
   ]
  },
  {
   "cell_type": "markdown",
   "metadata": {},
   "source": [
    "Links para aprender a escrever equações em Markdown\n",
    "\n",
    "https://medium.com/analytics-vidhya/writing-math-equations-in-jupyter-notebook-a-naive-introduction-a5ce87b9a214\n",
    "\n",
    "https://stackoverflow.com/questions/13208286/how-to-write-latex-in-ipython-notebook\n",
    "\n",
    "https://en.wikibooks.org/wiki/LaTeX/Mathematics"
   ]
  },
  {
   "cell_type": "markdown",
   "metadata": {},
   "source": [
    "$$\n",
    "\\begin{align}\n",
    "\\text{Função impulso unitário}\\\\\n",
    "\\delta(t) = \\frac{d}{dt}u(t) = \\begin{cases}\n",
    "0&t < 0\\\\\n",
    "\\infty& t = 0\\\\\n",
    "1&t > 0\\\\\n",
    "\\end{cases}\n",
    "\\end{align}\n",
    "$$"
   ]
  },
  {
   "cell_type": "markdown",
   "metadata": {},
   "source": [
    "Links para desenhar gráficos\n",
    "\n",
    "https://www.geeksforgeeks.org/graph-plotting-in-python-set-1/\n",
    "\n",
    "Derivadas em Python\n",
    "\n",
    "https://dev.to/erikwhiting88/calculate-derivative-functions-in-python-h58"
   ]
  },
  {
   "cell_type": "code",
   "execution_count": null,
   "metadata": {},
   "outputs": [],
   "source": []
  }
 ],
 "metadata": {
  "kernelspec": {
   "display_name": "Python 3",
   "language": "python",
   "name": "python3"
  },
  "language_info": {
   "codemirror_mode": {
    "name": "ipython",
    "version": 3
   },
   "file_extension": ".py",
   "mimetype": "text/x-python",
   "name": "python",
   "nbconvert_exporter": "python",
   "pygments_lexer": "ipython3",
   "version": "3.7.6"
  }
 },
 "nbformat": 4,
 "nbformat_minor": 4
}
