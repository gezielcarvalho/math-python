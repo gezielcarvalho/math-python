{
 "cells": [
  {
   "cell_type": "markdown",
   "metadata": {},
   "source": [
    "# Matemática - Ensino Fundamental - 6º ano\n",
    "\n",
    "Ref: Matemática e Realidade. Gelson Iezzi"
   ]
  },
  {
   "cell_type": "markdown",
   "metadata": {},
   "source": [
    "## Unidade 1 - As quatro operações fundamentais\n",
    "\n",
    "### Capítulo 1 Adição e subtração\n",
    "\n",
    "#### Introdução"
   ]
  },
  {
   "cell_type": "markdown",
   "metadata": {},
   "source": [
    "A professora de Língua Portuguesa indicou aos alunos do 6º ano os livros que eles deverão ler no primeiro bimestre.\n",
    "\n",
    "1. A criação das criaturas (80 páginas);\n",
    "2. Machado e Juca (176) páginas.\n",
    "\n",
    "Juntando esses dois livros, quantas páginas, ao todo, os alunos vão ler?"
   ]
  },
  {
   "cell_type": "code",
   "execution_count": 1,
   "metadata": {},
   "outputs": [
    {
     "data": {
      "text/plain": [
       "256"
      ]
     },
     "execution_count": 1,
     "metadata": {},
     "output_type": "execute_result"
    }
   ],
   "source": [
    "# criar uma variável para cada quantidade de livros\n",
    "paginas_criacao = 80\n",
    "paginas_machado = 176\n",
    "\n",
    "#somar as duas variáveis\n",
    "paginas_criacao + paginas_machado"
   ]
  },
  {
   "cell_type": "code",
   "execution_count": 2,
   "metadata": {},
   "outputs": [
    {
     "name": "stdout",
     "output_type": "stream",
     "text": [
      "Os alunos vão ler 256\n"
     ]
    }
   ],
   "source": [
    "#formatar melhor a resposta.\n",
    "soma_das_paginas = paginas_criacao + paginas_machado\n",
    "\n",
    "print(\"Os alunos vão ler %d\" %soma_das_paginas)"
   ]
  },
  {
   "cell_type": "markdown",
   "metadata": {},
   "source": [
    "Robreto, de 46 anos, e Camila, de 45 anos, são os pais de Maria Clara, de 19 anos."
   ]
  },
  {
   "cell_type": "code",
   "execution_count": null,
   "metadata": {},
   "outputs": [],
   "source": [
    "roberto_idade = 46\n",
    "camila_idade = 45\n",
    "mariaclara_idade = 19"
   ]
  },
  {
   "cell_type": "markdown",
   "metadata": {},
   "source": [
    "a) Para saber quantos anos têm Roberto e Camila juntos, que conta devemos fazer?"
   ]
  },
  {
   "cell_type": "code",
   "execution_count": 4,
   "metadata": {},
   "outputs": [],
   "source": [
    "roberto_camila_idades = roberto_idade + camila_idade"
   ]
  },
  {
   "cell_type": "markdown",
   "metadata": {},
   "source": [
    "b) Qual é o resultado?"
   ]
  },
  {
   "cell_type": "code",
   "execution_count": 5,
   "metadata": {},
   "outputs": [
    {
     "name": "stdout",
     "output_type": "stream",
     "text": [
      "Roberto e Camila tem juntos 91 anos\n"
     ]
    }
   ],
   "source": [
    "print(\"Roberto e Camila tem juntos %d anos\" %roberto_camila_idades)"
   ]
  },
  {
   "cell_type": "markdown",
   "metadata": {},
   "source": [
    "c) Para saber quantos anos têm Maria Clara e sua mãe juntas, que conta devemos fazer?"
   ]
  },
  {
   "cell_type": "code",
   "execution_count": 6,
   "metadata": {},
   "outputs": [],
   "source": [
    "mariaclara_camila_idades = mariaclara_idade + camila_idade"
   ]
  },
  {
   "cell_type": "markdown",
   "metadata": {},
   "source": [
    "d) Qual é o resultado?"
   ]
  },
  {
   "cell_type": "code",
   "execution_count": 7,
   "metadata": {},
   "outputs": [
    {
     "name": "stdout",
     "output_type": "stream",
     "text": [
      "Maria Clara e sua mãe têm juntas 64 anos\n"
     ]
    }
   ],
   "source": [
    "print(\"Maria Clara e sua mãe têm juntas %d anos\" %mariaclara_camila_idades)"
   ]
  },
  {
   "cell_type": "markdown",
   "metadata": {},
   "source": [
    "e) Para saber quantos anos têm os três juntos, que contas podemos fazer?"
   ]
  },
  {
   "cell_type": "code",
   "execution_count": 8,
   "metadata": {},
   "outputs": [],
   "source": [
    "os_tres_juntos_idade = roberto_idade + camila_idade + mariaclara_idade"
   ]
  },
  {
   "cell_type": "markdown",
   "metadata": {},
   "source": [
    "f) Quantos anos têm os três juntos?"
   ]
  },
  {
   "cell_type": "code",
   "execution_count": 9,
   "metadata": {},
   "outputs": [
    {
     "name": "stdout",
     "output_type": "stream",
     "text": [
      "Os três juntos tem 110 anos\n"
     ]
    }
   ],
   "source": [
    "print(\"Os três juntos tem %d anos\" %os_tres_juntos_idade)"
   ]
  },
  {
   "cell_type": "code",
   "execution_count": null,
   "metadata": {},
   "outputs": [],
   "source": []
  },
  {
   "cell_type": "markdown",
   "metadata": {},
   "source": [
    "Roberto trabalha em um banco e ganha 1950 reais por mês; Camila trabalha em uma loja e ganha 1280 reais por mês. Maria Clara é estudante, mas ganha 660 reais pro mês trabalhando meio período."
   ]
  },
  {
   "cell_type": "code",
   "execution_count": 1,
   "metadata": {},
   "outputs": [],
   "source": [
    "renda_mensal_roberto    = 1950\n",
    "renda_mensal_camila     = 1280\n",
    "renda_mensal_mariaclara =  660"
   ]
  },
  {
   "cell_type": "markdown",
   "metadata": {},
   "source": [
    "g) juntando os salários, calculamos a renda familiar. De quanto é a renda familiar deles, sem contar o salário de Maria Clara."
   ]
  },
  {
   "cell_type": "code",
   "execution_count": 3,
   "metadata": {},
   "outputs": [
    {
     "name": "stdout",
     "output_type": "stream",
     "text": [
      "Renda familiar sem Maria Clara R$ 3230.00\n"
     ]
    }
   ],
   "source": [
    "renda_familiar_pais = renda_mensal_camila + renda_mensal_roberto \n",
    "\n",
    "print(\"Renda familiar sem Maria Clara R$ %.2f\" %renda_familiar_pais)"
   ]
  },
  {
   "cell_type": "markdown",
   "metadata": {},
   "source": [
    "h) e de quanto é a renda familiar contando o salário dos três?"
   ]
  },
  {
   "cell_type": "code",
   "execution_count": 4,
   "metadata": {},
   "outputs": [
    {
     "name": "stdout",
     "output_type": "stream",
     "text": [
      "Renda familiar total R$ 3890.00\n"
     ]
    }
   ],
   "source": [
    "renda_familiar = renda_familiar_pais + renda_mensal_mariaclara\n",
    "\n",
    "print(\"Renda familiar total R$ %.2f\" %renda_familiar)"
   ]
  },
  {
   "cell_type": "code",
   "execution_count": null,
   "metadata": {},
   "outputs": [],
   "source": []
  }
 ],
 "metadata": {
  "kernelspec": {
   "display_name": "Python 3",
   "language": "python",
   "name": "python3"
  },
  "language_info": {
   "codemirror_mode": {
    "name": "ipython",
    "version": 3
   },
   "file_extension": ".py",
   "mimetype": "text/x-python",
   "name": "python",
   "nbconvert_exporter": "python",
   "pygments_lexer": "ipython3",
   "version": "3.7.6"
  }
 },
 "nbformat": 4,
 "nbformat_minor": 4
}
