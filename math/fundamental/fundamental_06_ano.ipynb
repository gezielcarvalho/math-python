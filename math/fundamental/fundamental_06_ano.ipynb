{
 "cells": [
  {
   "cell_type": "markdown",
   "metadata": {},
   "source": [
    "# Matemática - Ensino Fundamental - 6º ano\n",
    "\n",
    "Ref: Matemática e Realidade. Gelson Iezzi"
   ]
  },
  {
   "cell_type": "markdown",
   "metadata": {},
   "source": [
    "## Unidade 1 - As quatro operações fundamentais\n",
    "\n",
    "### Capítulo 1 Adição e subtração\n",
    "\n",
    "#### Adição"
   ]
  },
  {
   "cell_type": "markdown",
   "metadata": {},
   "source": [
    "A professora de Língua Portuguesa indicou aos alunos do 6º ano os livros que eles deverão ler no primeiro bimestre.\n",
    "\n",
    "1. A criação das criaturas (80 páginas);\n",
    "2. Machado e Juca (176) páginas.\n",
    "\n",
    "Juntando esses dois livros, quantas páginas, ao todo, os alunos vão ler?"
   ]
  },
  {
   "source": [
    "# criar uma variável para cada quantidade de livros\n",
    "paginas_criacao = 80\n",
    "paginas_machado = 176\n",
    "\n",
    "#somar as duas variáveis\n",
    "paginas_criacao + paginas_machado"
   ],
   "cell_type": "code",
   "metadata": {},
   "execution_count": 1,
   "outputs": [
    {
     "output_type": "execute_result",
     "data": {
      "text/plain": [
       "256"
      ]
     },
     "metadata": {},
     "execution_count": 1
    }
   ]
  },
  {
   "cell_type": "code",
   "execution_count": 2,
   "metadata": {},
   "outputs": [
    {
     "output_type": "stream",
     "name": "stdout",
     "text": [
      "Os alunos vão ler 256\n"
     ]
    }
   ],
   "source": [
    "#formatar melhor a resposta.\n",
    "soma_das_paginas = paginas_criacao + paginas_machado\n",
    "\n",
    "print(\"Os alunos vão ler %d\" %soma_das_paginas)"
   ]
  },
  {
   "source": [
    "Robreto, de 46 anos, e Camila, de 45 anos, são os pais de Maria Clara, de 19 anos."
   ],
   "cell_type": "markdown",
   "metadata": {}
  },
  {
   "cell_type": "code",
   "execution_count": null,
   "metadata": {},
   "outputs": [],
   "source": [
    "roberto_idade = 46\n",
    "camila_idade = 45\n",
    "mariaclara_idade = 19"
   ]
  },
  {
   "source": [
    "a) Para saber quantos anos têm Roberto e Camila juntos, que conta devemos fazer?"
   ],
   "cell_type": "markdown",
   "metadata": {}
  },
  {
   "source": [
    "roberto_camila_idades = roberto_idade + camila_idade"
   ],
   "cell_type": "code",
   "metadata": {},
   "execution_count": 4,
   "outputs": []
  },
  {
   "source": [
    "b) Qual é o resultado?"
   ],
   "cell_type": "markdown",
   "metadata": {}
  },
  {
   "cell_type": "code",
   "execution_count": 5,
   "metadata": {},
   "outputs": [
    {
     "output_type": "stream",
     "name": "stdout",
     "text": [
      "Roberto e Camila tem juntos 91 anos\n"
     ]
    }
   ],
   "source": [
    "print(\"Roberto e Camila tem juntos %d anos\" %roberto_camila_idades)"
   ]
  },
  {
   "source": [
    "c) Para saber quantos anos têm Maria Clara e sua mãe juntas, que conta devemos fazer?"
   ],
   "cell_type": "markdown",
   "metadata": {}
  },
  {
   "cell_type": "code",
   "execution_count": 6,
   "metadata": {},
   "outputs": [],
   "source": [
    "mariaclara_camila_idades = mariaclara_idade + camila_idade"
   ]
  },
  {
   "source": [
    "d) Qual é o resultado?"
   ],
   "cell_type": "markdown",
   "metadata": {}
  },
  {
   "cell_type": "code",
   "execution_count": 7,
   "metadata": {},
   "outputs": [
    {
     "output_type": "stream",
     "name": "stdout",
     "text": [
      "Maria Clara e sua mãe têm juntas 64 anos\n"
     ]
    }
   ],
   "source": [
    "print(\"Maria Clara e sua mãe têm juntas %d anos\" %mariaclara_camila_idades)"
   ]
  },
  {
   "source": [
    "e) Para saber quantos anos têm os três juntos, que contas podemos fazer?"
   ],
   "cell_type": "markdown",
   "metadata": {}
  },
  {
   "cell_type": "code",
   "execution_count": 8,
   "metadata": {},
   "outputs": [],
   "source": [
    "os_tres_juntos_idade = roberto_idade + camila_idade + mariaclara_idade"
   ]
  },
  {
   "source": [
    "f) Quantos anos têm os três juntos?"
   ],
   "cell_type": "markdown",
   "metadata": {}
  },
  {
   "cell_type": "code",
   "execution_count": 9,
   "metadata": {},
   "outputs": [
    {
     "output_type": "stream",
     "name": "stdout",
     "text": [
      "Os três juntos tem 110 anos\n"
     ]
    }
   ],
   "source": [
    "print(\"Os três juntos tem %d anos\" %os_tres_juntos_idade)"
   ]
  },
  {
   "cell_type": "code",
   "execution_count": null,
   "metadata": {},
   "outputs": [],
   "source": []
  }
 ],
 "metadata": {
  "kernelspec": {
   "display_name": "Python 3",
   "language": "python",
   "name": "python3"
  },
  "language_info": {
   "codemirror_mode": {
    "name": "ipython",
    "version": 3
   },
   "file_extension": ".py",
   "mimetype": "text/x-python",
   "name": "python",
   "nbconvert_exporter": "python",
   "pygments_lexer": "ipython3",
   "version": "3.8.5-final"
  }
 },
 "nbformat": 4,
 "nbformat_minor": 4
}