{
 "cells": [
  {
   "cell_type": "markdown",
   "metadata": {},
   "source": [
    "## Unidade 1 - As quatro operações fundamentais\n",
    "\n",
    "### Capítulo 1 Adição e subtração\n",
    "\n",
    "#### Adição"
   ]
  },
  {
   "cell_type": "markdown",
   "metadata": {},
   "source": [
    "<img src=\"img/img001_soma.png\">\n",
    "\n",
    "Os números 80 e 176 são as parcelas da adição."
   ]
  },
  {
   "cell_type": "code",
   "execution_count": 2,
   "metadata": {},
   "outputs": [
    {
     "name": "stdout",
     "output_type": "stream",
     "text": [
      "O resultado, 256, é chamado soma\n"
     ]
    }
   ],
   "source": [
    "primeira_parcela =  80\n",
    "segunda_parcela  = 176\n",
    "\n",
    "soma = primeira_parcela + segunda_parcela\n",
    "\n",
    "print(\"O resultado, %d, é chamado soma\" %soma)"
   ]
  },
  {
   "cell_type": "markdown",
   "metadata": {},
   "source": [
    "##### Exercícios\n",
    "1) Na última eleição para prefeito da vidade de Alegria, havia dois candidatos: Antônio Carlos e João Pedro. Na tabela abaixo, estão computados os votos de todos os eleitores da cidade.\n",
    "\n",
    "\n",
    "|  | 1ª Zona Eleitoral | 2ª Zona Eleitoral |\n",
    "| --- | --- | --- |\n",
    "| Antônio Carlos | 8546 | 4294 |\n",
    "| João Pedro | 5480 | 7352 |\n",
    "| Votos em branco | 258 | 1086 |\n",
    "\n",
    "Next: dataframe"
   ]
  },
  {
   "cell_type": "code",
   "execution_count": null,
   "metadata": {},
   "outputs": [],
   "source": []
  }
 ],
 "metadata": {
  "kernelspec": {
   "display_name": "Python 3",
   "language": "python",
   "name": "python3"
  },
  "language_info": {
   "codemirror_mode": {
    "name": "ipython",
    "version": 3
   },
   "file_extension": ".py",
   "mimetype": "text/x-python",
   "name": "python",
   "nbconvert_exporter": "python",
   "pygments_lexer": "ipython3",
   "version": "3.7.6"
  }
 },
 "nbformat": 4,
 "nbformat_minor": 2
}
