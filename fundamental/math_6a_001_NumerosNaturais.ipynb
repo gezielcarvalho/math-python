{
 "cells": [
  {
   "cell_type": "markdown",
   "metadata": {},
   "source": [
    "# Números naturais\n",
    "## As quatro operações fundamentais\n",
    "## Adição e subtração"
   ]
  },
  {
   "cell_type": "markdown",
   "metadata": {},
   "source": [
    "A professora de Língua Portuguesa indicou aos alunos do 6 9 ano os livros que eles deverão\n",
    "ler no primeiro bimestre do ano letivo.\n",
    "\n",
    "A criação das criaturas tem 80 páginas, e Machado e juca, 176 páginas.\n",
    "Juntando esses dois livros, quantas páginas, ao todo, os alunos vão ler?"
   ]
  },
  {
   "cell_type": "code",
   "execution_count": 6,
   "metadata": {},
   "outputs": [
    {
     "name": "stdout",
     "output_type": "stream",
     "text": [
      "Os alunos vão ler 256 páginas\n"
     ]
    }
   ],
   "source": [
    "#criar variáveis para as páginas dos livros\n",
    "criacaoPaginas = 80\n",
    "machadoPaginas = 176\n",
    "\n",
    "#fazer a soma\n",
    "somaPaginas = criacaoPaginas + machadoPaginas\n",
    "\n",
    "print(\"Os alunos vão ler %d páginas.\" %(somaPaginas))"
   ]
  },
  {
   "cell_type": "markdown",
   "metadata": {},
   "source": [
    "### Roberto, de 46 anos, e Camila, de 45 anos, são os pais de Maria Clara, de 19 anos.\n",
    "\n",
    "1. Para saber quantos anos tém Roberto e Camila juntos, que conta devemos fazer?\n",
    "2. Qual é o resultado?\n",
    "3. Para saber quantos anos tém Maria Clara e sua mãe têm juntas, que conta devemos fazer?\n",
    "4. Qual é o resultado?\n",
    "5. Para saber quantos anos tém os trés juntos, que contas podemos fazer?\n",
    "6. Quantos anos tém os trés juntos?"
   ]
  },
  {
   "cell_type": "code",
   "execution_count": 13,
   "metadata": {},
   "outputs": [
    {
     "name": "stdout",
     "output_type": "stream",
     "text": [
      "Roberto tem 46 anos, Camila tem 45 anos e Maria Clara tem 19 anos\n"
     ]
    }
   ],
   "source": [
    "# iniciar variáveis\n",
    "robertoIdade = 46\n",
    "camilaIdade = 45\n",
    "mariaIdade = 19\n",
    "\n",
    "print(\"Roberto tem %d anos, Camila tem %d anos e Maria Clara tem %d anos\" %(robertoIdade,camilaIdade,mariaIdade))"
   ]
  },
  {
   "cell_type": "code",
   "execution_count": 10,
   "metadata": {},
   "outputs": [
    {
     "name": "stdout",
     "output_type": "stream",
     "text": [
      "Roberto e Camila têm juntos 91 anos\n"
     ]
    }
   ],
   "source": [
    "# a)Para saber quantos anos tém Roberto e Camila juntos, que conta devemos fazer?\n",
    "robertoCamilaSoma = robertoIdade + camilaIdade\n",
    "\n",
    "# b) Qual é o resultado?\n",
    "print(\"Roberto e Camila têm juntos %d anos\" %robertoCamilaSoma)"
   ]
  },
  {
   "cell_type": "code",
   "execution_count": 11,
   "metadata": {},
   "outputs": [
    {
     "name": "stdout",
     "output_type": "stream",
     "text": [
      "Maria Clara e sua mãe têm juntas 64 anos\n"
     ]
    }
   ],
   "source": [
    "# c) Para saber quantos anos tém Maria Clara e sua mãe têm juntas, que conta devemos fazer?\n",
    "mariaCamilaSoma = mariaIdade + camilaIdade\n",
    "\n",
    "# d) Qual é o resultado?\n",
    "print(\"Maria Clara e sua mãe têm juntas %d anos\" %(mariaCamilaSoma))"
   ]
  },
  {
   "cell_type": "code",
   "execution_count": 12,
   "metadata": {},
   "outputs": [
    {
     "name": "stdout",
     "output_type": "stream",
     "text": [
      "Os três juntos tem 110 anos\n"
     ]
    }
   ],
   "source": [
    "# e) Para saber quantos anos tém os três juntos, que contas podemos fazer?\n",
    "todosSoma = robertoIdade + camilaIdade + mariaIdade\n",
    "\n",
    "# f) Quantos anos tém os três juntos?\n",
    "print(\"Os três juntos tem %d anos\" %(todosSoma))"
   ]
  },
  {
   "cell_type": "markdown",
   "metadata": {},
   "source": [
    "cont pg 10."
   ]
  },
  {
   "cell_type": "code",
   "execution_count": null,
   "metadata": {},
   "outputs": [],
   "source": []
  }
 ],
 "metadata": {
  "kernelspec": {
   "display_name": "Python 3",
   "language": "python",
   "name": "python3"
  },
  "language_info": {
   "codemirror_mode": {
    "name": "ipython",
    "version": 3
   },
   "file_extension": ".py",
   "mimetype": "text/x-python",
   "name": "python",
   "nbconvert_exporter": "python",
   "pygments_lexer": "ipython3",
   "version": "3.7.6"
  }
 },
 "nbformat": 4,
 "nbformat_minor": 4
}
