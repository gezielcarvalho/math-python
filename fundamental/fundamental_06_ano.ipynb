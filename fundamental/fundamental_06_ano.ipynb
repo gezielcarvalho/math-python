{
 "cells": [
  {
   "cell_type": "markdown",
   "metadata": {},
   "source": [
    "# Matemática - Ensino Fundamental - 6º ano\n",
    "\n",
    "Ref: Matemática e Realidade. Gelson Iezzi"
   ]
  },
  {
   "cell_type": "markdown",
   "metadata": {},
   "source": [
    "## Unidade 1 - As quatro operações fundamentais\n",
    "\n",
    "### Capítulo 1 Adição e subtração\n",
    "\n",
    "#### Adição"
   ]
  },
  {
   "cell_type": "markdown",
   "metadata": {},
   "source": [
    "A professora de Língua Portuguesa indicou aos alunos do 6º ano os livros que eles deverão ler no primeiro bimestre.\n",
    "\n",
    "1. A criação das criaturas (80 páginas);\n",
    "2. Machado e Juca (176) páginas.\n",
    "\n",
    "Juntando esses dois livros, quantas páginas, ao todo, os alunos vão ler?"
   ]
  },
  {
   "cell_type": "code",
   "execution_count": 1,
   "metadata": {},
   "outputs": [
    {
     "data": {
      "text/plain": [
       "256"
      ]
     },
     "execution_count": 1,
     "metadata": {},
     "output_type": "execute_result"
    }
   ],
   "source": [
    "# criar uma variável para cada quantidade de livros\n",
    "paginas_criacao = 80\n",
    "paginas_machado = 176\n",
    "\n",
    "#somar as duas variáveis\n",
    "paginas_criacao + paginas_machado"
   ]
  },
  {
   "cell_type": "code",
   "execution_count": 2,
   "metadata": {},
   "outputs": [
    {
     "name": "stdout",
     "output_type": "stream",
     "text": [
      "Os alunos vão ler 256\n"
     ]
    }
   ],
   "source": [
    "#formatar melhor a resposta.\n",
    "soma_das_paginas = paginas_criacao + paginas_machado\n",
    "\n",
    "print(\"Os alunos vão ler %d\" %soma_das_paginas)"
   ]
  },
  {
   "cell_type": "code",
   "execution_count": null,
   "metadata": {},
   "outputs": [],
   "source": []
  }
 ],
 "metadata": {
  "kernelspec": {
   "display_name": "Python 3",
   "language": "python",
   "name": "python3"
  },
  "language_info": {
   "codemirror_mode": {
    "name": "ipython",
    "version": 3
   },
   "file_extension": ".py",
   "mimetype": "text/x-python",
   "name": "python",
   "nbconvert_exporter": "python",
   "pygments_lexer": "ipython3",
   "version": "3.7.6"
  }
 },
 "nbformat": 4,
 "nbformat_minor": 4
}
